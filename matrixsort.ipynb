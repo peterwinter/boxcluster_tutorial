{
 "cells": [
  {
   "cell_type": "markdown",
   "metadata": {},
   "source": [
    "# BoxSort for Sorting a Square Matricies\n",
    "\n",
    "This notebook is intended to show what and how the *BoxSort* class works.\n",
    "\n",
    "*BoxSort* creates the sorted matricies that are cut by [BoxCut class](https://github.com/peterwinter/boxcluster_tutorial/blob/master/boxcut.ipynb) into several \"boxes\".\n",
    "\n",
    "The diagonal is a line of symetry. This method optimizes position so high affinity positions are closest to the line of symetry. ie. every node is closest to it's strongest connections. ie. the matrix is sorted.\n",
    "\n",
    "The key classes in this process include:\n",
    "\n",
    "- **np.array** -- the data structure \n",
    "- **OrderedArray** -- a boxcluster class specialized for symetrical rearangements\n",
    "- **BoxSort** -- a class for simulated annealing using the **OrderedArray** class\n",
    "\n",
    "On the surface this seems complicated, so an example might help."
   ]
  },
  {
   "cell_type": "code",
   "execution_count": null,
   "metadata": {
    "collapsed": false
   },
   "outputs": [],
   "source": [
    "%matplotlib inline\n",
    "%load_ext autoreload\n",
    "%autoreload 2"
   ]
  },
  {
   "cell_type": "code",
   "execution_count": null,
   "metadata": {
    "collapsed": true
   },
   "outputs": [],
   "source": [
    "# global imports\n",
    "import pandas as pd\n",
    "import numpy as np\n",
    "import matplotlib.pyplot as plt\n",
    "import warnings\n",
    "warnings.filterwarnings('ignore')"
   ]
  },
  {
   "cell_type": "code",
   "execution_count": null,
   "metadata": {
    "collapsed": false
   },
   "outputs": [],
   "source": [
    "# the boxcluster package\n",
    "from boxcluster import BoxSort\n",
    "from boxcluster.fake_data import generate_nested_data"
   ]
  },
  {
   "cell_type": "code",
   "execution_count": null,
   "metadata": {
    "collapsed": false
   },
   "outputs": [],
   "source": [
    "# local imports\n",
    "from plotting import mplot"
   ]
  },
  {
   "cell_type": "markdown",
   "metadata": {},
   "source": [
    "### Load Sample Data\n",
    "\n",
    "To test out this function we load a sample dataset that contains the type of structures we are looking for.\n",
    "The data is represented as a square 64 x 64 *numpy array* with values between 0 and 1.\n",
    "\n",
    "It's a numpy array, we're just plotting it visually here."
   ]
  },
  {
   "cell_type": "code",
   "execution_count": null,
   "metadata": {
    "collapsed": false
   },
   "outputs": [],
   "source": [
    "test_soln = generate_nested_data(noise=0.05)\n",
    "print('Solution')\n",
    "mplot(test_soln)\n",
    "plt.show()"
   ]
  },
  {
   "cell_type": "markdown",
   "metadata": {},
   "source": [
    "### Make Test Set\n",
    "\n",
    "Shuffle the rows so that the algorithm can try to reassemble the pieces."
   ]
  },
  {
   "cell_type": "code",
   "execution_count": null,
   "metadata": {
    "collapsed": false
   },
   "outputs": [],
   "source": [
    "n = len(test_soln)\n",
    "order = np.arange(n)\n",
    "np.random.shuffle(order)\n",
    "test = test_soln[:, order][order, :]\n",
    "print('Test')\n",
    "mplot(test)"
   ]
  },
  {
   "cell_type": "markdown",
   "metadata": {},
   "source": [
    "# BoxSort Example\n"
   ]
  },
  {
   "cell_type": "code",
   "execution_count": null,
   "metadata": {
    "collapsed": false
   },
   "outputs": [],
   "source": [
    "# initialize the instance\n",
    "bs = BoxSort(test)\n",
    "\n",
    "# returns a OrderedArray class object with the solution.\n",
    "result = bs(save_history=True)\n",
    "\n",
    "# show result\n",
    "mplot(result.matrix)\n",
    "plt.show()"
   ]
  },
  {
   "cell_type": "markdown",
   "metadata": {},
   "source": [
    "# Under The Hood\n",
    "\n",
    "### Introspecting History\n",
    "\n",
    "Because we ran **bc** using while saving history, `bc(save_history=True)`, we've got a list of namedtuples (from collections) that let us introspect how the simulated annealing algorithm ran. \n",
    "\n",
    "Each of the named tuple (called a *trace*) contains seven elements:\n",
    "- evals (a counter)\n",
    "- last_move (turns since move was accepted)\n",
    "- move_accepted (boolean, some moves are stored but not accepted)\n",
    "- temp (current temperature)\n",
    "- current_fit (fitness/energy of current state)\n",
    "- new_fit (fitness/energy of proposed move)"
   ]
  },
  {
   "cell_type": "code",
   "execution_count": null,
   "metadata": {
    "collapsed": false
   },
   "outputs": [],
   "source": [
    "history = bs.history\n",
    "history[:3]"
   ]
  },
  {
   "cell_type": "markdown",
   "metadata": {},
   "source": [
    "This can conveniently turned into a dataframe and used for plotting"
   ]
  },
  {
   "cell_type": "code",
   "execution_count": null,
   "metadata": {
    "collapsed": false
   },
   "outputs": [],
   "source": [
    "df = pd.DataFrame(history).set_index('evals')\n",
    "df.head()"
   ]
  },
  {
   "cell_type": "markdown",
   "metadata": {},
   "source": [
    "### Maximizing Value along diagonal\n",
    "\n",
    "We can check how well we maximize this fitness function"
   ]
  },
  {
   "cell_type": "code",
   "execution_count": null,
   "metadata": {
    "collapsed": false
   },
   "outputs": [],
   "source": [
    "df[['current_fit', 'new_fit']].plot(alpha=0.5)"
   ]
  },
  {
   "cell_type": "markdown",
   "metadata": {},
   "source": [
    "### Halting Condition\n",
    "\n",
    "Examine all the properties involved with progressing for this anneal."
   ]
  },
  {
   "cell_type": "code",
   "execution_count": null,
   "metadata": {
    "collapsed": false
   },
   "outputs": [],
   "source": [
    "df['last_move'].plot(alpha=0.5)"
   ]
  },
  {
   "cell_type": "code",
   "execution_count": null,
   "metadata": {
    "collapsed": false
   },
   "outputs": [],
   "source": [
    "df['temp'].plot()"
   ]
  },
  {
   "cell_type": "code",
   "execution_count": null,
   "metadata": {
    "collapsed": false
   },
   "outputs": [],
   "source": [
    "df['moves_this_temp'].plot(alpha=0.5)"
   ]
  }
 ],
 "metadata": {
  "kernelspec": {
   "display_name": "Python 3",
   "language": "python",
   "name": "python3"
  },
  "language_info": {
   "codemirror_mode": {
    "name": "ipython",
    "version": 3
   },
   "file_extension": ".py",
   "mimetype": "text/x-python",
   "name": "python",
   "nbconvert_exporter": "python",
   "pygments_lexer": "ipython3",
   "version": "3.4.3"
  }
 },
 "nbformat": 4,
 "nbformat_minor": 0
}
